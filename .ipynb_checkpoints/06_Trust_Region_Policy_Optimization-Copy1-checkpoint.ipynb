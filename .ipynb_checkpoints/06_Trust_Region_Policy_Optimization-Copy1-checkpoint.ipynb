{
 "cells": [
  {
   "cell_type": "markdown",
   "id": "c38192d6-2342-4982-8a6b-e511321e580a",
   "metadata": {},
   "source": [
    "# Trust Region Policy Optimization (TRPO)"
   ]
  },
  {
   "cell_type": "markdown",
   "id": "d106fb86-dc12-4a19-a5f5-6fe6e04d9f67",
   "metadata": {},
   "source": [
    "## Importing libraries"
   ]
  },
  {
   "cell_type": "code",
   "execution_count": 593,
   "id": "31e7912b-01de-412c-8d46-a1481a7b9daa",
   "metadata": {},
   "outputs": [],
   "source": [
    "import numpy as np\n",
    "import matplotlib.pyplot as plt\n",
    "import sys\n",
    "import scipy\n",
    "import time\n",
    "from IPython.display import display, clear_output\n",
    "\n",
    "import gymnasium as gym\n",
    "\n",
    "from collections import defaultdict\n",
    "\n",
    "import torch\n",
    "import torch.nn as nn\n",
    "import torch.nn.functional as F"
   ]
  },
  {
   "cell_type": "markdown",
   "id": "4c532c11-f341-4868-9309-7786b95d2aeb",
   "metadata": {},
   "source": [
    "## Config"
   ]
  },
  {
   "cell_type": "code",
   "execution_count": 650,
   "id": "1eb5dc1f-1823-4bed-9263-23a3917a7dfb",
   "metadata": {},
   "outputs": [],
   "source": [
    "CONFIG = {\n",
    "    'TRPO': {\n",
    "        'gamma': 0.99,            \n",
    "        'num_episodes': 200,     \n",
    "        'val_fn_lr': 5e-4,        \n",
    "        'val_fn_epochs': 20,      \n",
    "        'val_fn_hidden_sizes': [64, 64], \n",
    "        'delta': 0.005,\n",
    "        'alpha': 0.8,             \n",
    "        'max_backtracks': 20,     \n",
    "    },\n",
    "    'MLPPolicy_hidden_sizes': [64, 64],\n",
    "    'animation': {\n",
    "        'FPS': None,\n",
    "        'do_truncate': True,\n",
    "    },\n",
    "    'plot_stats_size': 20,\n",
    "}"
   ]
  },
  {
   "cell_type": "markdown",
   "id": "90242624-7371-422b-85bd-2acbb33c20c9",
   "metadata": {},
   "source": [
    "## Creating the environment"
   ]
  },
  {
   "cell_type": "code",
   "execution_count": 595,
   "id": "e81b80f5-84ab-4320-bf8f-1ca0d46d6d38",
   "metadata": {},
   "outputs": [],
   "source": [
    "env = gym.make('CartPole-v1', render_mode = 'rgb_array')"
   ]
  },
  {
   "cell_type": "markdown",
   "id": "219ed524-0fff-423a-81f7-d7b2659e6b3e",
   "metadata": {},
   "source": [
    "## Helper functions"
   ]
  },
  {
   "cell_type": "code",
   "execution_count": 596,
   "id": "54ec7d8a-a9e1-4f4a-9afa-d6ab507d93c9",
   "metadata": {},
   "outputs": [],
   "source": [
    "def animate_policy(env, policy: np.ndarray, FPS: int = 12, do_truncate: bool = True):\n",
    "    '''\n",
    "    Animates using the builtin env.render() function\n",
    "\n",
    "    Args:\n",
    "        env: OpenAI Env\n",
    "        policy (np.ndarray): Array of size [S x A] representing the policy\n",
    "        FPS (int): The frames per second of the animation\n",
    "        do_truncate (bool): If True, the animation will be stopped after 100 frames\n",
    "    '''\n",
    "\n",
    "    def interpret_state(s):\n",
    "        return f\"({s[0]:.3f}m, {s[2]*180/np.pi:.1f}°) \"\n",
    "\n",
    "    figure_size = (6,4)\n",
    "    \n",
    "    state_dims = env.observation_space.shape[0]\n",
    "    act_dims = env.action_space.n\n",
    "    \n",
    "    s, _ = env.reset()\n",
    "    actions = {0:\"←\", 1:\"→\"}\n",
    "    step = 0\n",
    "    while True:\n",
    "        \n",
    "        action = np.random.choice(list(range(act_dims)), p = policy(torch.as_tensor(s)).detach().numpy())\n",
    "        step += 1\n",
    "        clear_output(wait = True)\n",
    "        plt.figure(figsize = figure_size)\n",
    "        plt.imshow(env.render())\n",
    "        plt.title(f'State: {interpret_state(s)}, Action: {actions[action]}, Time: {step}s')\n",
    "        plt.axis('off')\n",
    "        plt.show()\n",
    "\n",
    "        if FPS is not None:\n",
    "            time.sleep(1/FPS)\n",
    "        \n",
    "        s, r, terminated, truncated, _ = env.step(action)\n",
    "        if terminated or (truncated and do_truncate):\n",
    "            break\n",
    "    \n",
    "    # Show final frame\n",
    "    clear_output(wait = True)\n",
    "    plt.figure(figsize= figure_size)\n",
    "    plt.imshow(env.render())\n",
    "    plt.title(f'Final State: {interpret_state(s)}, Total Time: {step}s')\n",
    "    plt.axis('off')\n",
    "    plt.show()"
   ]
  },
  {
   "cell_type": "code",
   "execution_count": 662,
   "id": "295a6fb9-90e1-4dee-be56-3d780b345d41",
   "metadata": {},
   "outputs": [],
   "source": [
    "def plot_stats(stats, window_size = 25):\n",
    "    def moving_average(x, window_size=25):\n",
    "        return np.convolve(x, np.ones(window_size)/window_size, mode='valid')\n",
    "\n",
    "    fig, (ax1, ax2) = plt.subplots(1,2, figsize = (12,4))\n",
    "    \n",
    "    episode_lengths = stats['ep_length']\n",
    "    smoothed_lengths = moving_average(episode_lengths, window_size=window_size)\n",
    "    \n",
    "    ax1.plot(np.arange(1, len(smoothed_lengths) + 1),smoothed_lengths)\n",
    "    ax1.set_title(\"Smoothed Episode Lengths\")\n",
    "    ax1.set_xlabel(\"Episode\")\n",
    "    ax1.set_ylabel(\"Length\")\n",
    "\n",
    "    val_loss = stats['val_loss']\n",
    "    smoothed_loss = moving_average(val_loss, window_size=window_size)\n",
    "    \n",
    "    ax2.plot(np.arange(1,len(smoothed_loss) + 1), smoothed_loss)\n",
    "    ax2.set_title(\"Smoothed Value Function Loss\")\n",
    "    ax2.set_xlabel(\"Episode\")\n",
    "    ax2.set_ylabel(\"Loss\")\n",
    "    \n",
    "    plt.show()\n",
    "    \n",
    "    print(f\"{stats['completions']} Completions\")"
   ]
  },
  {
   "cell_type": "markdown",
   "id": "74f3515b-ab96-4a44-b35e-e65c01e9be01",
   "metadata": {},
   "source": [
    "## Defining Policy Functions"
   ]
  },
  {
   "cell_type": "code",
   "execution_count": 598,
   "id": "82e2cf28-a0f0-4107-8e7f-bfb61bf14c27",
   "metadata": {},
   "outputs": [],
   "source": [
    "class MLPPolicy(nn.Module):\n",
    "    def __init__(self, state_dims, act_dims, hidden_sizes=[32]):\n",
    "        super().__init__()\n",
    "        layer_sizes = [state_dims] + hidden_sizes + [act_dims]\n",
    "        layers = []\n",
    "       \n",
    "        for i in range(len(hidden_sizes)):\n",
    "            layers.append(nn.Linear(layer_sizes[i], layer_sizes[i+1]))\n",
    "            layers.append(nn.ReLU()) \n",
    "\n",
    "        layers.append(nn.Linear(layer_sizes[-2], layer_sizes[-1]))\n",
    "        \n",
    "        self.mlp = nn.Sequential(*layers)\n",
    "\n",
    "    def forward(self, state):\n",
    "        logits = self.mlp(state)\n",
    "        return F.softmax(logits, dim = -1).clamp(min=1e-8, max=1-1e-8)"
   ]
  },
  {
   "cell_type": "markdown",
   "id": "771998d7-9f63-4b90-9815-14392c616249",
   "metadata": {},
   "source": [
    "## Defining the Value Function"
   ]
  },
  {
   "cell_type": "code",
   "execution_count": 599,
   "id": "93091743-ebca-48ed-a1ce-19b6265606b9",
   "metadata": {},
   "outputs": [],
   "source": [
    "class MLPValue(nn.Module):\n",
    "    def __init__(self, state_dims, hidden_sizes=[16]):\n",
    "        super().__init__()\n",
    "        layer_sizes = [state_dims] + hidden_sizes + [1]\n",
    "        layers = []\n",
    "        \n",
    "        for i in range(len(hidden_sizes)):\n",
    "            layers.append(nn.Linear(layer_sizes[i], layer_sizes[i+1]))\n",
    "            layers.append(nn.ReLU()) \n",
    "\n",
    "        layers.append(nn.Linear(layer_sizes[-2], layer_sizes[-1]))\n",
    "        \n",
    "        self.mlp = nn.Sequential(*layers)\n",
    "\n",
    "    def forward(self, state):\n",
    "        return self.mlp(state).squeeze(-1)"
   ]
  },
  {
   "cell_type": "markdown",
   "id": "354afd8a-6829-4702-a1c5-56e99f2bf820",
   "metadata": {},
   "source": [
    "## Trust Region Policy Optimization"
   ]
  },
  {
   "cell_type": "code",
   "execution_count": 643,
   "id": "be4053f2-9fcc-4715-9135-423fe271b69e",
   "metadata": {},
   "outputs": [],
   "source": [
    "torch.autograd.set_detect_anomaly(True)\n",
    "\n",
    "def unflatten(flat_tensor, model):\n",
    "    shapes = [p.shape for p in model.parameters()]\n",
    "    params = []\n",
    "    idx = 0\n",
    "    for shape in shapes:\n",
    "        size = torch.tensor(shape).prod().item()\n",
    "        param = flat_tensor[idx: idx + size].view(shape)\n",
    "        params.append(param)\n",
    "        idx += size\n",
    "    return params\n",
    "\n",
    "@torch.no_grad()\n",
    "def flat_params(model):\n",
    "    return torch.cat([p.data.view(-1) for p in model.parameters()])\n",
    "\n",
    "\n",
    "@torch.no_grad()\n",
    "def set_flat_params(model, flat_vector):\n",
    "    idx = 0\n",
    "    for p in model.parameters():\n",
    "        size = p.numel()\n",
    "        p.data.copy_(flat_vector[idx:idx+size].view_as(p))\n",
    "        idx += size\n",
    "    \n",
    "\n",
    "def fisher_vector_product(policy_net, states, old_probs, damping=1e-2):\n",
    "    def fvp_fn(v):\n",
    "        # Get current policy probabilities\n",
    "        current_probs = policy_net(states)\n",
    "        \n",
    "        # Create distributions\n",
    "        current_dist = torch.distributions.Categorical(current_probs)\n",
    "        old_dist = torch.distributions.Categorical(old_probs.detach())  \n",
    "        \n",
    "        # Compute KL divergence (old || current)\n",
    "        kl = torch.distributions.kl.kl_divergence(old_dist, current_dist).mean()\n",
    "        \n",
    "        # First gradient (gradient of KL)\n",
    "        grads = torch.autograd.grad(kl, policy_net.parameters(), create_graph=True)\n",
    "        flat_grad_kl = torch.cat([g.contiguous().view(-1) for g in grads])\n",
    "        \n",
    "        # Gradient vector product\n",
    "        grad_v = torch.dot(flat_grad_kl, v)\n",
    "        \n",
    "        # Hessian vector product\n",
    "        hv = torch.autograd.grad(grad_v, policy_net.parameters(), retain_graph = True)\n",
    "        flat_hv = torch.cat([g.contiguous().view(-1) for g in hv])\n",
    "                \n",
    "        # Add damping for numerical stability\n",
    "        del kl, grads, grad_v\n",
    "        return flat_hv + damping * v\n",
    "    return fvp_fn\n",
    "\n",
    "\n",
    "def conjugate_gradients(fvp_fn, b, n_iters=10, residual_tol=1e-10):\n",
    "    x = torch.zeros_like(b)\n",
    "    r = b.clone()\n",
    "    p = b.clone()\n",
    "    rdotr = torch.dot(r, r)\n",
    "\n",
    "    for i in range(n_iters):\n",
    "        Avp = fvp_fn(p)  # Fisher-vector product\n",
    "        alpha = rdotr / torch.dot(p, Avp + 1e-8)\n",
    "        x = x + alpha * p\n",
    "        r = r + alpha * Avp\n",
    "        new_rdotr = torch.dot(r, r)\n",
    "\n",
    "        if new_rdotr < residual_tol:\n",
    "            break\n",
    "        beta = new_rdotr / (rdotr + 1e-8)\n",
    "        p = r + beta * p\n",
    "        rdotr = new_rdotr\n",
    "\n",
    "    return x\n",
    "\n",
    "\n",
    "def TRPO(env, policy, gamma = 1.0, num_episodes = 10,\n",
    "         val_fn_lr = 1e-3, val_fn_epochs = 10, val_fn_hidden_sizes = [16],\n",
    "         delta = 0.001, alpha = 0.5, max_backtracks = 10):\n",
    "\n",
    "    s_dims = env.observation_space.shape[0]\n",
    "    a_dims = env.action_space.n\n",
    "    \n",
    "    stats = {'ep_length': [],\n",
    "             'completions': 0,\n",
    "             'val_loss': []}\n",
    "    \n",
    "    value_fn = MLPValue(s_dims, val_fn_hidden_sizes)\n",
    "    mse_loss = nn.MSELoss()\n",
    "    \n",
    "    value_optimizer = torch.optim.Adam(value_fn.parameters(), lr = val_fn_lr)\n",
    "    \n",
    "    for e in range(1, num_episodes + 1):\n",
    "\n",
    "        if e % 1 == 0 or e == num_episodes:\n",
    "            print(f'\\rEpisode : {e}/{num_episodes} ({100*e/num_episodes:.2f}%)', end = '')\n",
    "            \n",
    "\n",
    "        H = defaultdict(lambda: [])\n",
    "        T = 0\n",
    "        s, _ = env.reset()\n",
    "        while True:\n",
    "            T += 1\n",
    "            probs = policy(torch.as_tensor(s))\n",
    "            a = np.random.choice(list(range(a_dims)), p = probs.detach().numpy())\n",
    "\n",
    "            s_n, r, terminated, truncated, info = env.step(a)\n",
    "\n",
    "            H['s'] += [s]\n",
    "            H['a'] += [a]\n",
    "            H['r'] += [r]\n",
    "            H['probs'] += [probs]\n",
    "            H['log_probs'] += [torch.log(probs[a])]\n",
    "            \n",
    "            if terminated or truncated:\n",
    "                ep_len_str = str(T)\n",
    "                ep_len_str = \"0\"*(3-len(ep_len_str)) + ep_len_str\n",
    "                print(f\" -- ep_length = {ep_len_str}\", end= '')\n",
    "                \n",
    "                stats['ep_length'] += [T]\n",
    "                if truncated:\n",
    "                    stats['completions'] += 1\n",
    "                break\n",
    "\n",
    "            s = s_n\n",
    "            \n",
    "        R = 0\n",
    "        Rt_tensor = torch.zeros(T)\n",
    "        for t in reversed(range(T)):\n",
    "            R = H['r'][t] + gamma * R\n",
    "            Rt_tensor[t] = R\n",
    "            \n",
    "        states_tensor = torch.as_tensor(np.asarray(H['s']), dtype=torch.float32)\n",
    "        actions_tensor = torch.as_tensor(np.asarray(H['a']), dtype=torch.long)\n",
    "        probs_tensor = torch.stack(H['probs'])\n",
    "        log_probs_tensor = torch.stack(H['log_probs'])\n",
    "        \n",
    "        adv_tensor = Rt_tensor - value_fn(states_tensor).detach()\n",
    "        \n",
    "        vpg_loss = torch.sum(log_probs_tensor * adv_tensor)        \n",
    "        \n",
    "        g_k = torch.autograd.grad(vpg_loss, policy.parameters(), create_graph=True)\n",
    "        flat_g_k = torch.cat([grad.contiguous().view(-1) for grad in g_k])\n",
    "\n",
    "        fvp_fn = fisher_vector_product(policy, states_tensor, probs_tensor)\n",
    "        step_dir = conjugate_gradients(fvp_fn, flat_g_k)\n",
    "\n",
    "        F_xk = fvp_fn(step_dir)\n",
    "        xk_F_xk = step_dir.dot(F_xk)\n",
    "\n",
    "        step_size = torch.sqrt(2*delta/(xk_F_xk + 1e-8))\n",
    "        final_step = step_size * step_dir\n",
    "        \n",
    "        expected_improve = flat_g_k.dot(final_step)\n",
    "        old_params = flat_params(policy)\n",
    "        \n",
    "        success = False\n",
    "        for i,step_frac in enumerate(alpha**np.arange(max_backtracks)):\n",
    "            new_params = old_params + step_frac * final_step\n",
    "            set_flat_params(policy, new_params)\n",
    "        \n",
    "            with torch.no_grad():\n",
    "                new_probs = policy(states_tensor)\n",
    "                new_log_probs = torch.log(new_probs[range(T), actions_tensor])\n",
    "                new_loss = torch.sum(new_log_probs * adv_tensor).detach()\n",
    "                \n",
    "                kl = torch.distributions.kl.kl_divergence(\n",
    "                    torch.distributions.Categorical(probs_tensor),\n",
    "                    torch.distributions.Categorical(new_probs)\n",
    "                ).mean()\n",
    "\n",
    "                actual_improve = new_loss.item() - vpg_loss.item()\n",
    "        \n",
    "            if actual_improve >= expected_improve*step_frac and kl <= delta:\n",
    "                print(f\" -- step_frac = {step_frac:.3f}\", end = '')\n",
    "                success = True\n",
    "                break\n",
    "                    \n",
    "        if not success:\n",
    "            print(f\" -- step_frac = None  \", end= '')\n",
    "            set_flat_params(policy, old_params)\n",
    "        \n",
    "        val_avg_loss = 0.0  \n",
    "        for epoch in range(val_fn_epochs):\n",
    "            V_pred = value_fn(states_tensor).view(-1)\n",
    "            \n",
    "            value_optimizer.zero_grad()\n",
    "            \n",
    "            val_loss = mse_loss(V_pred, Rt_tensor) \n",
    "            val_avg_loss += val_loss.item()\n",
    "            \n",
    "            val_loss.backward()\n",
    "            value_optimizer.step()\n",
    "            \n",
    "        val_avg_loss /= val_fn_epochs\n",
    "        stats['val_loss'] += [val_avg_loss]\n",
    "        sys.stdout.flush()\n",
    "\n",
    "    return stats"
   ]
  },
  {
   "cell_type": "markdown",
   "id": "6f8cdc1a-d407-44c5-8394-f8d5ddef4ecc",
   "metadata": {},
   "source": [
    "## MLP Policy"
   ]
  },
  {
   "cell_type": "code",
   "execution_count": 651,
   "id": "53a50410-2d0d-4dda-979d-c509526e11a0",
   "metadata": {},
   "outputs": [
    {
     "name": "stdout",
     "output_type": "stream",
     "text": [
      "Episode : 200/200 (100.00%) -- ep_length = 149 -- step_frac = 1.000"
     ]
    }
   ],
   "source": [
    "s_dims = env.observation_space.shape[0]\n",
    "a_dims = env.action_space.n\n",
    "\n",
    "policy = MLPPolicy(s_dims, a_dims, CONFIG['MLPPolicy_hidden_sizes'])\n",
    "stats = TRPO(env, policy, **CONFIG['TRPO'])"
   ]
  },
  {
   "cell_type": "code",
   "execution_count": 656,
   "id": "5429a53e-3f73-4130-96f4-5739bd9e7a3a",
   "metadata": {
    "editable": true,
    "slideshow": {
     "slide_type": ""
    },
    "tags": []
   },
   "outputs": [
    {
     "data": {
      "image/png": "[encoded data removed]",
      "text/plain": [
       "<Figure size 600x400 with 1 Axes>"
      ]
     },
     "metadata": {},
     "output_type": "display_data"
    }
   ],
   "source": [
    "animate_policy(env, policy, **CONFIG['animation'])"
   ]
  },
  {
   "cell_type": "code",
   "execution_count": 663,
   "id": "5d7a8b3e-0278-4b2a-982c-4be40c6607f9",
   "metadata": {},
   "outputs": [
    {
     "data": {
      "image/png": "[encoded data removed]",
      "text/plain": [
       "<Figure size 1200x400 with 2 Axes>"
      ]
     },
     "metadata": {},
     "output_type": "display_data"
    },
    {
     "name": "stdout",
     "output_type": "stream",
     "text": [
      "0 Completions\n"
     ]
    }
   ],
   "source": [
    "plot_stats(stats_mlp, CONFIG['plot_stats_size'])"
   ]
  },
  {
   "cell_type": "code",
   "execution_count": null,
   "id": "a11d7c21-19f9-4187-9966-4bcc542010e0",
   "metadata": {},
   "outputs": [],
   "source": []
  }
 ],
 "metadata": {
  "kernelspec": {
   "display_name": "Python 3 (ipykernel)",
   "language": "python",
   "name": "python3"
  },
  "language_info": {
   "codemirror_mode": {
    "name": "ipython",
    "version": 3
   },
   "file_extension": ".py",
   "mimetype": "text/x-python",
   "name": "python",
   "nbconvert_exporter": "python",
   "pygments_lexer": "ipython3",
   "version": "3.10.14"
  }
 },
 "nbformat": 4,
 "nbformat_minor": 5
}
